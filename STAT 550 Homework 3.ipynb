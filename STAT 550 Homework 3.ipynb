{
 "cells": [
  {
   "cell_type": "code",
   "execution_count": 1,
   "metadata": {},
   "outputs": [],
   "source": [
    "import numpy as np\n",
    "import math\n",
    "import matplotlib.pyplot as plt\n",
    "import scipy.stats as stats\n",
    "from scipy.stats import probplot\n",
    "import statsmodels.api as sm"
   ]
  },
  {
   "cell_type": "markdown",
   "metadata": {},
   "source": [
    "# 6.5\n",
    "H_o:$C*\\mu=0$ vs $H_a:C*\\mu$ is not equal to 0."
   ]
  },
  {
   "cell_type": "code",
   "execution_count": 28,
   "metadata": {},
   "outputs": [
    {
     "name": "stdout",
     "output_type": "stream",
     "text": [
      "Test Statistic: 90.49457756898148\n",
      "Critical Value: 6.660416635188395\n",
      "Since Test Statistic > Critical Value, we know that we must reject the null and conlcude that mean indices are unequal.\n"
     ]
    }
   ],
   "source": [
    "#a)\n",
    "n=40\n",
    "q=3\n",
    "x_bar=np.array([[46.1],[57.3],[50.4]])\n",
    "Covmat=np.array([[101.3,63,71],[63,80.2,55.6],[71,55.6,97.4]])\n",
    "C=np.array([[1,-1,0],[1,0,-1]])\n",
    "T_squared=n*np.matmul((np.matmul((np.matmul(C,x_bar)).T,np.linalg.inv(np.dot(np.dot(C,Covmat),C.T)))),np.matmul(C,x_bar))\n",
    "print(\"Test Statistic:\",float(T_squared[0]))\n",
    "\n",
    "#find F critical value\n",
    "crit_val=(stats.f.ppf(q=1-.05, dfn=2, dfd=38))*(((n-1)*(q-1))/(n-q+1))\n",
    "print(\"Critical Value:\",crit_val)\n",
    "\n",
    "print(\"Since Test Statistic > Critical Value, we know that we must reject the null and conlcude that mean indices are unequal.\")"
   ]
  },
  {
   "cell_type": "code",
   "execution_count": 65,
   "metadata": {},
   "outputs": [
    {
     "name": "stdout",
     "output_type": "stream",
     "text": [
      "Confidence Interval for mu1-mu2:( -14.239955276204547 , -8.160044723795444 )\n",
      "Confidence Interval for mu1-mu3:( -7.372643907187999 , -1.2273560928119958 )\n",
      "Since 0 does not belong in either of these intervals, we conclude that mean indices are not equal\n"
     ]
    }
   ],
   "source": [
    "#b)\n",
    "simul_conflow1=np.matmul(C[0],x_bar)-(math.sqrt(crit_val)*(math.sqrt(np.matmul((np.matmul(C[0].T,Covmat)),C[0])/n)))\n",
    "simul_confhigh1=np.matmul(C[0],x_bar)+(math.sqrt(crit_val)*(math.sqrt(np.matmul((np.matmul(C[0].T,Covmat)),C[0])/n)))\n",
    "print(\"Confidence Interval for mu1-mu2:(\",float(simul_conflow1),\",\",float(simul_confhigh1),\")\")\n",
    "\n",
    "simul_conflow2=np.matmul(C[1],x_bar)-(math.sqrt(crit_val)*(math.sqrt(np.matmul((np.matmul(C[1].T,Covmat)),C[1])/n)))\n",
    "simul_confhigh2=np.matmul(C[1],x_bar)+(math.sqrt(crit_val)*(math.sqrt(np.matmul((np.matmul(C[1].T,Covmat)),C[1])/n)))\n",
    "print(\"Confidence Interval for mu1-mu3:(\",float(simul_conflow2),\",\",float(simul_confhigh2),\")\")"
   ]
  },
  {
   "cell_type": "markdown",
   "metadata": {},
   "source": [
    "Since 0 does not belong in either of these intervals, our conclusion from above is reinforced."
   ]
  },
  {
   "cell_type": "markdown",
   "metadata": {},
   "source": [
    "# 6.6"
   ]
  },
  {
   "cell_type": "code",
   "execution_count": 2,
   "metadata": {
    "scrolled": true
   },
   "outputs": [
    {
     "name": "stdout",
     "output_type": "stream",
     "text": [
      "[[ 1.6 -1.4]\n",
      " [-1.4  2. ]]\n"
     ]
    }
   ],
   "source": [
    "#a)\n",
    "n1=3\n",
    "n2=4\n",
    "Tr2_1=np.array([[3],[3]])\n",
    "Tr2_2=np.array([[1],[6]])\n",
    "Tr2_3=np.array([[2],[3]])\n",
    "Tr3_1=np.array([[2],[3]])\n",
    "Tr3_2=np.array([[5],[1]])\n",
    "Tr3_3=np.array([[3],[1]])\n",
    "Tr3_4=np.array([[2],[3]])\n",
    "x_bar_1=(1/n1)*(np.add(np.add(Tr2_1,Tr2_2),Tr2_3))\n",
    "x_bar_2=(1/n2)*(np.add(np.add(np.add(Tr3_1,Tr3_2),Tr3_3),Tr3_4))\n",
    "s_1=(.5)*np.add(np.add((np.matmul(np.subtract(Tr2_1,x_bar_1),np.subtract(Tr2_1,x_bar_1).T)),\n",
    "                         (np.matmul(np.subtract(Tr2_2,x_bar_1),np.subtract(Tr2_2,x_bar_1).T))),\n",
    "                         (np.matmul(np.subtract(Tr2_3,x_bar_1),np.subtract(Tr2_3,x_bar_1).T)))\n",
    "\n",
    "s_2=(1/(n2-1))*np.add(np.add(np.add((np.matmul(np.subtract(Tr3_1,x_bar_2),np.subtract(Tr3_1,x_bar_2).T)),\n",
    "                         (np.matmul(np.subtract(Tr3_2,x_bar_2),np.subtract(Tr3_2,x_bar_2).T))),\n",
    "                         (np.matmul(np.subtract(Tr3_3,x_bar_2),np.subtract(Tr3_3,x_bar_2).T))),\n",
    "                     (np.matmul(np.subtract(Tr3_4,x_bar_2),np.subtract(Tr3_4,x_bar_2).T)))\n",
    "S_pooled=np.add(((n1-1)/(n1+n2-2))*s_1,((n2-1)/(n1+n2-2))*s_2)\n",
    "print(S_pooled)"
   ]
  },
  {
   "cell_type": "markdown",
   "metadata": {},
   "source": [
    "$H_o:\\mu_{2}-\\mu_{3}=0$ vs $H_a:\\mu_{2}-\\mu_{3}$ is not equal to 0."
   ]
  },
  {
   "cell_type": "code",
   "execution_count": 114,
   "metadata": {},
   "outputs": [
    {
     "name": "stdout",
     "output_type": "stream",
     "text": [
      "Test Statistic: 3.870967741935484\n",
      "Critical Value: 44.99999999999997\n",
      "Since our test statistic is much smaller than the critical value we cannot reject the null hypothesis and must conclude that mu2 and mu3 are equal.\n"
     ]
    }
   ],
   "source": [
    "#b\n",
    "T_squared_6=np.matmul(np.matmul(np.subtract(x_bar_1,x_bar_2).T,np.linalg.inv(\n",
    "((1/3)+(1/4))*S_pooled)),np.subtract(x_bar_1,x_bar_2))\n",
    "print(\"Test Statistic:\",float(T_squared_6))\n",
    "crit_val_6=(stats.f.ppf(q=1-.01, dfn=2, dfd=4))*(10/4)\n",
    "print(\"Critical Value:\",crit_val_6)\n",
    "print(\"Since our test statistic is much smaller than the critical value we cannot reject the null hypothesis and must conclude that mu2 and mu3 are equal.\")"
   ]
  },
  {
   "cell_type": "code",
   "execution_count": 134,
   "metadata": {},
   "outputs": [
    {
     "name": "stdout",
     "output_type": "stream",
     "text": [
      "Confidence Interval mu_21 - mu_31:( -7.480740698407858 , 5.480740698407858 )\n",
      "Confidence Interval mu_22 - mu_32:( -5.245688373094716 , 9.245688373094715 )\n",
      "This result reinforces the hypothesis test from part b) since 0 is contained in both of these intervals\n"
     ]
    }
   ],
   "source": [
    "#c\n",
    "simul_conflow6_1=np.subtract(x_bar_1[0],x_bar_2[0])-(math.sqrt(crit_val_6))*math.sqrt((((1/3)+(1/4))*S_pooled[0,0]))\n",
    "simul_confhigh6_1=np.subtract(x_bar_1[0],x_bar_2[0])+(math.sqrt(crit_val_6))*math.sqrt((((1/3)+(1/4))*S_pooled[0,0]))\n",
    "print(\"Confidence Interval mu_21 - mu_31:(\",float(simul_conflow6_1),\",\",float(simul_confhigh6_1),\")\")\n",
    "simul_conflow6_2=np.subtract(x_bar_1[1],x_bar_2[1])-(math.sqrt(crit_val_6))*math.sqrt((((1/3)+(1/4))*S_pooled[1,1]))\n",
    "simul_confhigh6_2=np.subtract(x_bar_1[1],x_bar_2[1])+(math.sqrt(crit_val_6))*math.sqrt((((1/3)+(1/4))*S_pooled[1,1]))\n",
    "print(\"Confidence Interval mu_22 - mu_32:(\",float(simul_conflow6_2),\",\",float(simul_confhigh6_2),\")\")\n",
    "print(\"This result reinforces the hypothesis test from part b) since 0 is contained in both of these intervals\")"
   ]
  },
  {
   "cell_type": "markdown",
   "metadata": {},
   "source": [
    "# 6.7"
   ]
  },
  {
   "cell_type": "markdown",
   "metadata": {},
   "source": [
    "$H_o:\\mu_{1}-\\mu_{2}=0$ vs $H_a:\\mu_{1}-\\mu_{2}$ is not equal to 0."
   ]
  },
  {
   "cell_type": "code",
   "execution_count": 140,
   "metadata": {},
   "outputs": [
    {
     "name": "stdout",
     "output_type": "stream",
     "text": [
      "Test Statistic: 16.066219085641638\n",
      "Critical Value: 6.244088539488168\n",
      "Since the Test Statistic is greater than the critical value, we have enough evidence to reject the null hypothesis. Thus, mu1 and mu2 are not equal.\n"
     ]
    }
   ],
   "source": [
    "x_bar_1_7=np.array([[204.4],[556.6]])\n",
    "x_bar_2_7=np.array([[130],[355]])\n",
    "S_1_7=np.array([[13825.3,23823.4],[23823.4,73107.4]])\n",
    "S_2_7=np.array([[8632,19616.7],[19616.7,55964.5]])\n",
    "S_pooled_7=np.add((44/98)*S_1_7,(54/98)*S_2_7)\n",
    "T_squared_7=np.matmul(np.matmul(np.subtract(x_bar_1_7,x_bar_2_7).T,np.linalg.inv(\n",
    "((1/45)+(1/55))*S_pooled_7)),np.subtract(x_bar_1_7,x_bar_2_7))\n",
    "print(\"Test Statistic:\",float(T_squared_7))\n",
    "crit_val_7=(stats.f.ppf(q=1-.05, dfn=2, dfd=97))*(196/97)\n",
    "print(\"Critical Value:\",crit_val_7)\n",
    "print(\"Since the Test Statistic is greater than the critical value, we have enough evidence to reject the null hypothesis. Thus, mu1 and mu2 are not equal.\")"
   ]
  },
  {
   "cell_type": "code",
   "execution_count": 141,
   "metadata": {},
   "outputs": [
    {
     "name": "stdout",
     "output_type": "stream",
     "text": [
      "[[0.00170252]\n",
      " [0.00259163]]\n"
     ]
    }
   ],
   "source": [
    "#coefficient vector\n",
    "print(np.matmul(np.linalg.inv(S_pooled_7),np.subtract(x_bar_1_7,x_bar_2_7)))"
   ]
  },
  {
   "cell_type": "markdown",
   "metadata": {},
   "source": [
    "By remark on page 289, we know that the linear combination $\\hat{a}^{'}\\left ( \\bar{x_{1}} - \\bar{x_{2}} \\right )$ with coefficient vector $ \\bigl(\\begin{smallmatrix}\n",
    " 0.00170252 \\\\ 0.00259163\\end{smallmatrix}\\bigr)$ quantifies the largest population difference."
   ]
  },
  {
   "cell_type": "markdown",
   "metadata": {},
   "source": [
    "# 6.8"
   ]
  },
  {
   "cell_type": "code",
   "execution_count": 3,
   "metadata": {},
   "outputs": [
    {
     "name": "stdout",
     "output_type": "stream",
     "text": [
      "4.772577999723211\n"
     ]
    }
   ],
   "source": [
    "#c\n",
    "crit_val_8=(stats.f.ppf(q=1-.01, dfn=4, dfd=16))\n",
    "print(crit_val_8)"
   ]
  },
  {
   "cell_type": "code",
   "execution_count": 7,
   "metadata": {},
   "outputs": [
    {
     "name": "stdout",
     "output_type": "stream",
     "text": [
      "13.276704135987622\n"
     ]
    }
   ],
   "source": [
    "crit_val_8Barlett=(stats.chi2.ppf(.99, 4))\n",
    "print(crit_val_8Barlett)"
   ]
  },
  {
   "cell_type": "markdown",
   "metadata": {},
   "source": [
    "# 6.26"
   ]
  },
  {
   "cell_type": "code",
   "execution_count": 25,
   "metadata": {},
   "outputs": [
    {
     "name": "stdout",
     "output_type": "stream",
     "text": [
      "Test Statistic: 9.235720861669341\n",
      "Critical Value: 8.55140414328653\n"
     ]
    }
   ],
   "source": [
    "x_bar_1_26=np.array([[.153],[-.231],[-.322],[-.339]])\n",
    "x_bar_2_26=np.array([[.151],[.18],[.256],[.257]])\n",
    "S_pooled_26=np.array([[.804,.355,.228,.232],[.355,.722,.233,.199],[.228,.233,.592,.239],[.232,.199,.239,.479]])\n",
    "C_26=np.array([[-1,1,0,0],[0,-1,1,0],[0,0,-1,1]])\n",
    "T_squared_xC=np.matmul(np.subtract(x_bar_1_26,x_bar_2_26).T,C_26.T)\n",
    "T_squared_CSC=np.linalg.inv(((1/28)+(1/58))*np.matmul(np.matmul(C_26,S_pooled_26),C_26.T))\n",
    "T_squared_26=np.matmul(np.matmul(T_squared_xC,T_squared_CSC),T_squared_xC.T)\n",
    "crit_val_26=3.07317*((stats.f.ppf(q=1-.05, dfn=3, dfd=52)))\n",
    "print(\"Test Statistic:\",float(T_squared_26))\n",
    "print(\"Critical Value:\",float(crit_val_26))"
   ]
  },
  {
   "cell_type": "markdown",
   "metadata": {},
   "source": [
    "Since our Test statistic is greater than the critical value, we must reject the null hypothesis. So we conclude that there is not parallelism in the profiles."
   ]
  }
 ],
 "metadata": {
  "kernelspec": {
   "display_name": "Python 3",
   "language": "python",
   "name": "python3"
  },
  "language_info": {
   "codemirror_mode": {
    "name": "ipython",
    "version": 3
   },
   "file_extension": ".py",
   "mimetype": "text/x-python",
   "name": "python",
   "nbconvert_exporter": "python",
   "pygments_lexer": "ipython3",
   "version": "3.8.5"
  }
 },
 "nbformat": 4,
 "nbformat_minor": 4
}
