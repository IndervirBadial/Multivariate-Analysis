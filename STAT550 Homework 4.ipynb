{
 "cells": [
  {
   "cell_type": "markdown",
   "metadata": {},
   "source": [
    "## 8.20"
   ]
  },
  {
   "cell_type": "code",
   "execution_count": 1,
   "metadata": {},
   "outputs": [],
   "source": [
    "import pandas as pd\n",
    "import numpy as np"
   ]
  },
  {
   "cell_type": "code",
   "execution_count": 2,
   "metadata": {},
   "outputs": [],
   "source": [
    "df=np.loadtxt(\"/Users/indobadial/Downloads/T86\",usecols=range(1,9))"
   ]
  },
  {
   "cell_type": "code",
   "execution_count": 8,
   "metadata": {},
   "outputs": [],
   "source": [
    "np.savetxt('values.csv', df, delimiter=\",\")"
   ]
  },
  {
   "cell_type": "markdown",
   "metadata": {},
   "source": [
    "## a)"
   ]
  },
  {
   "cell_type": "code",
   "execution_count": 25,
   "metadata": {},
   "outputs": [
    {
     "name": "stdout",
     "output_type": "stream",
     "text": [
      "[[1.         0.91475542 0.8041147  0.71193879 0.76579188 0.73988027\n",
      "  0.71479209 0.67648729]\n",
      " [0.91475542 1.         0.84491587 0.79691618 0.79508711 0.76130275\n",
      "  0.74795194 0.72111569]\n",
      " [0.8041147  0.84491587 1.         0.7677488  0.77155225 0.77969293\n",
      "  0.76574812 0.71268233]\n",
      " [0.71193879 0.79691618 0.7677488  1.         0.89576092 0.86069588\n",
      "  0.84310737 0.8069657 ]\n",
      " [0.76579188 0.79508711 0.77155225 0.89576092 1.         0.91652241\n",
      "  0.90133803 0.87777884]\n",
      " [0.73988027 0.76130275 0.77969293 0.86069588 0.91652241 1.\n",
      "  0.98823235 0.94414657]\n",
      " [0.71479209 0.74795194 0.76574812 0.84310737 0.90133803 0.98823235\n",
      "  1.         0.954163  ]\n",
      " [0.67648729 0.72111569 0.71268233 0.8069657  0.87777884 0.94414657\n",
      "  0.954163   1.        ]]\n",
      "Eigenvalue 1 : 6.703289950659093\n",
      "Eigenvalue 2 : 0.6384101095211387\n",
      "Eigenvalue 3 : 0.22752449403555886\n",
      "Eigenvalue 4 : 0.20584918088586163\n",
      "Eigenvalue 5 : 0.009718861749514928\n",
      "Eigenvalue 6 : 0.09757744063054019\n",
      "Eigenvalue 7 : 0.07068791230513094\n",
      "Eigenvalue 8 : 0.04694205021316655\n",
      "Eigenvector: 1 : [ 0.33238773 -0.52939911  0.3438593  -0.38074525 -0.06570144  0.29967117\n",
      " -0.36203713  0.34764701]\n",
      "Eigenvector: 2 : [ 0.34605106 -0.4703905  -0.0037861  -0.21702322  0.0607554  -0.54143422\n",
      "  0.34859224 -0.43989686]\n",
      "Eigenvector: 3 : [ 0.33912402 -0.34532929 -0.06706051  0.8512998  -0.00346973  0.13298631\n",
      "  0.07708385  0.11355526]\n",
      "Eigenvector: 4 : [ 0.35301338  0.08945523 -0.78271115 -0.13427911 -0.03927403 -0.22728254\n",
      " -0.34130845  0.25888304]\n",
      "Eigenvector: 5 : [ 0.36598491  0.15365241 -0.24427004 -0.23302034 -0.03974551  0.65162403\n",
      "  0.52977961 -0.14703618]\n",
      "Eigenvector: 6 : [ 0.36982036  0.29475985  0.18286315  0.05462441  0.70568458  0.07181636\n",
      " -0.35914382 -0.32832023]\n",
      "Eigenvector: 7 : [ 0.36594893  0.33360619  0.24398069  0.08706927 -0.69718171 -0.06133263\n",
      " -0.27308617 -0.35111331]\n",
      "Eigenvector: 8 : [ 0.35427792  0.38656085  0.33463297 -0.01812115  0.06931689 -0.33789097\n",
      "  0.37516986  0.59415714]\n"
     ]
    }
   ],
   "source": [
    "corrmat=np.corrcoef(df.T)\n",
    "print(corrmat)\n",
    "eigvals=np.linalg.eig(corrmat)[0]\n",
    "eigvecs=np.linalg.eig(corrmat)[1]\n",
    "for i in range(8):\n",
    "    print(\"Eigenvalue\",i+1,':',eigvals[i])\n",
    "for i in range(8):\n",
    "    print(\"Eigenvector:\",i+1,':',eigvecs[i,:])"
   ]
  },
  {
   "cell_type": "markdown",
   "metadata": {},
   "source": [
    "## b)\n",
    "First 2 principal components:\n",
    "\n",
    "$\\hat{y}_{1}=0.33238773x_{1} + 0.34605106x_{2} + 0.33912402x_{3} + 0.35301338x_{4} + 0.36598491x_{5} + 0.36982036x_{6} + 0.36594893x_{7} + 0.35427792x_{8}$\n",
    "\n",
    "$\\hat{y}_{2}=-0.52939911x_{1} - 0.4703905x_{2} - 0.34532929x_{3} + 0.08945523x_{4} + 0.15365241x_{5} + 0.29475985x_{6} + 0.33360619x_{7} + 0.38656085x_{8}$"
   ]
  },
  {
   "cell_type": "code",
   "execution_count": 27,
   "metadata": {},
   "outputs": [
    {
     "name": "stdout",
     "output_type": "stream",
     "text": [
      "0.9177125075225283\n"
     ]
    }
   ],
   "source": [
    "percentoftotalvar=(eigvals[0]+eigvals[1])/np.sum(eigvals)\n",
    "print(percentoftotalvar)"
   ]
  },
  {
   "cell_type": "markdown",
   "metadata": {},
   "source": [
    "## 9.3"
   ]
  },
  {
   "cell_type": "markdown",
   "metadata": {},
   "source": [
    "## a)"
   ]
  },
  {
   "cell_type": "code",
   "execution_count": 24,
   "metadata": {},
   "outputs": [
    {
     "name": "stdout",
     "output_type": "stream",
     "text": [
      "[[ 0.234375   -0.096425   -0.171075  ]\n",
      " [-0.096425    0.31076796 -0.23927596]\n",
      " [-0.171075   -0.23927596  0.49618396]]\n"
     ]
    }
   ],
   "source": [
    "L=np.array([[.875],[.8302],[.7098]])\n",
    "p=np.array([[1,.63,.45],[.63,1,.35],[.45,.35,1]])\n",
    "phi=np.subtract(p,np.matmul(L,L.T))\n",
    "print(phi)"
   ]
  }
 ],
 "metadata": {
  "kernelspec": {
   "display_name": "Python 3",
   "language": "python",
   "name": "python3"
  },
  "language_info": {
   "codemirror_mode": {
    "name": "ipython",
    "version": 3
   },
   "file_extension": ".py",
   "mimetype": "text/x-python",
   "name": "python",
   "nbconvert_exporter": "python",
   "pygments_lexer": "ipython3",
   "version": "3.8.5"
  }
 },
 "nbformat": 4,
 "nbformat_minor": 4
}
