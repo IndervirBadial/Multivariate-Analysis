{
 "cells": [
  {
   "cell_type": "code",
   "execution_count": 1,
   "metadata": {},
   "outputs": [],
   "source": [
    "import numpy as np\n",
    "import math\n",
    "import matplotlib.pyplot as plt\n",
    "import scipy.stats as stats\n",
    "from scipy.stats import probplot\n",
    "import statsmodels.api as sm"
   ]
  },
  {
   "cell_type": "markdown",
   "metadata": {},
   "source": [
    "## 4.26"
   ]
  },
  {
   "cell_type": "code",
   "execution_count": 7,
   "metadata": {},
   "outputs": [],
   "source": [
    "#a\n",
    "age=np.array([1,2,3,3,4,5,6,8,9,11])\n",
    "price=np.array([18.95,19,17.95,15.54,14,12.95,8.94,7.49,6.00,3.99])\n",
    "S=np.array([[10.62222222,-17.71022222],[-17.71022222,30.85436556]]) #found in SAS\n",
    "S_inv=np.linalg.inv(S)"
   ]
  },
  {
   "cell_type": "code",
   "execution_count": 78,
   "metadata": {},
   "outputs": [],
   "source": [
    "mat1=np.zeros(10)\n",
    "mat2=np.zeros(10)\n",
    "for i in range(10):\n",
    "    mat1[i]=np.array([age[i]-5.2])\n",
    "    mat2[i]=np.array([price[i]-12.481])"
   ]
  },
  {
   "cell_type": "code",
   "execution_count": 107,
   "metadata": {},
   "outputs": [
    {
     "data": {
      "text/plain": [
       "array([1.87530448, 2.02032622, 2.90090879, 0.73526593, 0.31051917,\n",
       "       0.0176162 , 3.73290119, 0.81654014, 1.37533795, 4.21527988])"
      ]
     },
     "execution_count": 107,
     "metadata": {},
     "output_type": "execute_result"
    }
   ],
   "source": [
    "col_vec=np.array([mat1,mat2])\n",
    "row_vec=col_vec.T\n",
    "m_squared=np.zeros(10)\n",
    "for i in range(10):\n",
    "    m_squared[i]=np.matmul(np.matmul(row_vec[i],S_inv),row_vec[i].T)\n",
    "m_squared"
   ]
  },
  {
   "cell_type": "code",
   "execution_count": 114,
   "metadata": {},
   "outputs": [
    {
     "name": "stdout",
     "output_type": "stream",
     "text": [
      "[0.0176162  0.31051917 0.73526593 0.81654014 1.37533795 1.87530448\n",
      " 2.02032622 2.90090879 3.73290119 4.21527988]\n"
     ]
    },
    {
     "data": {
      "image/png": "[encoded data removed]",
      "text/plain": [
       "<Figure size 432x288 with 1 Axes>"
      ]
     },
     "metadata": {
      "needs_background": "light"
     },
     "output_type": "display_data"
    }
   ],
   "source": [
    "#c\n",
    "m_squared.sort()\n",
    "print(m_squared)\n",
    "res = stats.probplot(m_squared,sparams=(2), dist=stats.chi2,plot=plt)"
   ]
  },
  {
   "cell_type": "markdown",
   "metadata": {},
   "source": [
    "## 5.1"
   ]
  },
  {
   "cell_type": "code",
   "execution_count": 8,
   "metadata": {},
   "outputs": [
    {
     "data": {
      "text/plain": [
       "array([[13.63635689]])"
      ]
     },
     "execution_count": 8,
     "metadata": {},
     "output_type": "execute_result"
    }
   ],
   "source": [
    "X=np.array([[2,12],[8,9],[6,9],[8,10]])\n",
    "x_bar=np.array([[6],[10]])\n",
    "Covmat=np.array([[8,-3.333333],[-3.333333,2]]) #found in SAS\n",
    "mu_prime=np.array([7,11])\n",
    "T_squared=np.matmul(np.matmul(4*np.subtract(x_bar.T,mu_prime),np.linalg.inv(Covmat)),np.subtract(x_bar.T,mu_prime).T)\n",
    "T_squared"
   ]
  },
  {
   "cell_type": "code",
   "execution_count": 9,
   "metadata": {},
   "outputs": [
    {
     "data": {
      "text/plain": [
       "array([[223.38342954]])"
      ]
     },
     "execution_count": 9,
     "metadata": {},
     "output_type": "execute_result"
    }
   ],
   "source": [
    "#5.18a\n",
    "X=np.array([[2,12],[8,9],[6,9],[8,10]])\n",
    "x_bar=np.array([[526.586],[54.6896],[25.1264]])\n",
    "Covmat=np.array([[5805.05932,597.8352,222.0296],[597.8352,126.05372,23.388532],[222.0296,23.388532,23.111735]]) #found in SAS\n",
    "mu_prime=np.array([500,50,30])\n",
    "T_squared=np.matmul(np.matmul(87*np.subtract(x_bar.T,mu_prime),np.linalg.inv(Covmat)),np.subtract(x_bar.T,mu_prime).T)\n",
    "T_squared"
   ]
  },
  {
   "cell_type": "code",
   "execution_count": 10,
   "metadata": {},
   "outputs": [
    {
     "data": {
      "text/plain": [
       "(array([5875.82809561,   63.80279714,   14.59388225]),\n",
       " array([[-0.99389916, -0.10377562, -0.03735073],\n",
       "        [-0.10349614,  0.99458595, -0.00934515],\n",
       "        [-0.03811831,  0.00542248,  0.99925852]]))"
      ]
     },
     "execution_count": 10,
     "metadata": {},
     "output_type": "execute_result"
    }
   ],
   "source": [
    "eigenval=np.linalg.eig(Covmat)\n",
    "eigenval"
   ]
  },
  {
   "cell_type": "code",
   "execution_count": 11,
   "metadata": {},
   "outputs": [
    {
     "name": "stdout",
     "output_type": "stream",
     "text": [
      "23.723023006006866 2.4720391740016865 1.1822815388525487\n"
     ]
    }
   ],
   "source": [
    "length1=math.sqrt(eigenval[0][0])*math.sqrt(.09577915)\n",
    "length2=math.sqrt(eigenval[0][1])*math.sqrt(.09577915)\n",
    "length3=math.sqrt(eigenval[0][2])*math.sqrt(.09577915)\n",
    "print(length1,length2,length3)"
   ]
  },
  {
   "cell_type": "code",
   "execution_count": 10,
   "metadata": {},
   "outputs": [
    {
     "data": {
      "text/plain": [
       "array([[0.12317788]])"
      ]
     },
     "execution_count": 10,
     "metadata": {},
     "output_type": "execute_result"
    }
   ],
   "source": [
    "#5.20\n",
    "#a\n",
    "x_bar=np.array([[193.6222],[279.7777]])\n",
    "Covmat=np.array([[120.6949495,122.3459596],[122.3459596,208.540404]]) #found in SAS\n",
    "mu_prime=np.array([190,275])\n",
    "T_squared=np.matmul(np.matmul(np.subtract(x_bar.T,mu_prime),np.linalg.inv(Covmat)),np.subtract(x_bar.T,mu_prime).T)\n",
    "T_squared"
   ]
  },
  {
   "cell_type": "code",
   "execution_count": 12,
   "metadata": {},
   "outputs": [
    {
     "name": "stdout",
     "output_type": "stream",
     "text": [
      "2.2498953415124787 6.562689028165622\n"
     ]
    }
   ],
   "source": [
    "eigenval=np.linalg.eig(Covmat)\n",
    "eigenval\n",
    "length1=math.sqrt(eigenval[0][0])*math.sqrt(.14619)\n",
    "length2=math.sqrt(eigenval[0][1])*math.sqrt(.14619)\n",
    "print(length1,length2)"
   ]
  },
  {
   "cell_type": "code",
   "execution_count": null,
   "metadata": {},
   "outputs": [],
   "source": []
  }
 ],
 "metadata": {
  "kernelspec": {
   "display_name": "Python 3",
   "language": "python",
   "name": "python3"
  },
  "language_info": {
   "codemirror_mode": {
    "name": "ipython",
    "version": 3
   },
   "file_extension": ".py",
   "mimetype": "text/x-python",
   "name": "python",
   "nbconvert_exporter": "python",
   "pygments_lexer": "ipython3",
   "version": "3.8.5"
  }
 },
 "nbformat": 4,
 "nbformat_minor": 4
}
